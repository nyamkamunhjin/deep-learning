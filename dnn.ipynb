{
 "cells": [
  {
   "cell_type": "code",
   "execution_count": 1,
   "metadata": {},
   "outputs": [
    {
     "name": "stderr",
     "output_type": "stream",
     "text": [
      "Using TensorFlow backend.\n"
     ]
    }
   ],
   "source": [
    "import numpy\n",
    "import scipy.special\n",
    "import matplotlib.pyplot as plt\n",
    "import keras.utils\n",
    "from keras.datasets import mnist"
   ]
  },
  {
   "cell_type": "code",
   "execution_count": 2,
   "metadata": {},
   "outputs": [],
   "source": [
    "(train_data, train_label), (test_data, test_label) = mnist.load_data()"
   ]
  },
  {
   "cell_type": "code",
   "execution_count": 3,
   "metadata": {},
   "outputs": [
    {
     "name": "stdout",
     "output_type": "stream",
     "text": [
      "Сургалтын өгөгдөл:\n",
      "[[  0   0   0   0   0   0   0   0   0   0   0   0   0   0   0   0   0   0\n",
      "    0   0   0   0   0   0   0   0   0   0]\n",
      " [  0   0   0   0   0   0   0   0   0   0   0   0   0   0   0   0   0   0\n",
      "    0   0   0   0   0   0   0   0   0   0]\n",
      " [  0   0   0   0   0   0   0   0   0   0   0   0   0   0   0   0   0   0\n",
      "    0   0   0   0   0   0   0   0   0   0]\n",
      " [  0   0   0   0   0   0   0   0   0   0   0   0   0   0   0   0   0   0\n",
      "    0   0   0   0   0   0   0   0   0   0]\n",
      " [  0   0   0   0   0   0   0   0   0   0   0   0   0   0   0   0   0   0\n",
      "    0   0   0   0   0   0   0   0   0   0]\n",
      " [  0   0   0   0   0   0   0   0   0   0   0   0   3  18  18  18 126 136\n",
      "  175  26 166 255 247 127   0   0   0   0]\n",
      " [  0   0   0   0   0   0   0   0  30  36  94 154 170 253 253 253 253 253\n",
      "  225 172 253 242 195  64   0   0   0   0]\n",
      " [  0   0   0   0   0   0   0  49 238 253 253 253 253 253 253 253 253 251\n",
      "   93  82  82  56  39   0   0   0   0   0]\n",
      " [  0   0   0   0   0   0   0  18 219 253 253 253 253 253 198 182 247 241\n",
      "    0   0   0   0   0   0   0   0   0   0]\n",
      " [  0   0   0   0   0   0   0   0  80 156 107 253 253 205  11   0  43 154\n",
      "    0   0   0   0   0   0   0   0   0   0]\n",
      " [  0   0   0   0   0   0   0   0   0  14   1 154 253  90   0   0   0   0\n",
      "    0   0   0   0   0   0   0   0   0   0]\n",
      " [  0   0   0   0   0   0   0   0   0   0   0 139 253 190   2   0   0   0\n",
      "    0   0   0   0   0   0   0   0   0   0]\n",
      " [  0   0   0   0   0   0   0   0   0   0   0  11 190 253  70   0   0   0\n",
      "    0   0   0   0   0   0   0   0   0   0]\n",
      " [  0   0   0   0   0   0   0   0   0   0   0   0  35 241 225 160 108   1\n",
      "    0   0   0   0   0   0   0   0   0   0]\n",
      " [  0   0   0   0   0   0   0   0   0   0   0   0   0  81 240 253 253 119\n",
      "   25   0   0   0   0   0   0   0   0   0]\n",
      " [  0   0   0   0   0   0   0   0   0   0   0   0   0   0  45 186 253 253\n",
      "  150  27   0   0   0   0   0   0   0   0]\n",
      " [  0   0   0   0   0   0   0   0   0   0   0   0   0   0   0  16  93 252\n",
      "  253 187   0   0   0   0   0   0   0   0]\n",
      " [  0   0   0   0   0   0   0   0   0   0   0   0   0   0   0   0   0 249\n",
      "  253 249  64   0   0   0   0   0   0   0]\n",
      " [  0   0   0   0   0   0   0   0   0   0   0   0   0   0  46 130 183 253\n",
      "  253 207   2   0   0   0   0   0   0   0]\n",
      " [  0   0   0   0   0   0   0   0   0   0   0   0  39 148 229 253 253 253\n",
      "  250 182   0   0   0   0   0   0   0   0]\n",
      " [  0   0   0   0   0   0   0   0   0   0  24 114 221 253 253 253 253 201\n",
      "   78   0   0   0   0   0   0   0   0   0]\n",
      " [  0   0   0   0   0   0   0   0  23  66 213 253 253 253 253 198  81   2\n",
      "    0   0   0   0   0   0   0   0   0   0]\n",
      " [  0   0   0   0   0   0  18 171 219 253 253 253 253 195  80   9   0   0\n",
      "    0   0   0   0   0   0   0   0   0   0]\n",
      " [  0   0   0   0  55 172 226 253 253 253 253 244 133  11   0   0   0   0\n",
      "    0   0   0   0   0   0   0   0   0   0]\n",
      " [  0   0   0   0 136 253 253 253 212 135 132  16   0   0   0   0   0   0\n",
      "    0   0   0   0   0   0   0   0   0   0]\n",
      " [  0   0   0   0   0   0   0   0   0   0   0   0   0   0   0   0   0   0\n",
      "    0   0   0   0   0   0   0   0   0   0]\n",
      " [  0   0   0   0   0   0   0   0   0   0   0   0   0   0   0   0   0   0\n",
      "    0   0   0   0   0   0   0   0   0   0]\n",
      " [  0   0   0   0   0   0   0   0   0   0   0   0   0   0   0   0   0   0\n",
      "    0   0   0   0   0   0   0   0   0   0]]\n",
      "Хариу:\n",
      "5\n"
     ]
    }
   ],
   "source": [
    "print('Сургалтын өгөгдөл:')\n",
    "print(train_data[0])\n",
    "print('Хариу:')\n",
    "print(train_label[0])"
   ]
  },
  {
   "cell_type": "code",
   "execution_count": 4,
   "metadata": {},
   "outputs": [
    {
     "data": {
      "image/png": "[encoded data removed]",
      "text/plain": [
       "<Figure size 576x288 with 10 Axes>"
      ]
     },
     "metadata": {
      "needs_background": "light"
     },
     "output_type": "display_data"
    }
   ],
   "source": [
    "# Сургалтын 60000 өгөгдлийн эхний 10-г хэвлэж үзье\n",
    "images=train_data[0:10]\n",
    "labels=train_label[0:10]\n",
    "\n",
    "fig=plt.figure(figsize=(8,4))\n",
    "subplot=None\n",
    "for c,(image,label) in enumerate(zip(images,labels)):\n",
    "    subplot=fig.add_subplot(2,5,c+1)\n",
    "    subplot.set_title('%d' % (label))\n",
    "    subplot.imshow(image.reshape(28,28),vmin=0,vmax=255,\n",
    "                  cmap=plt.cm.gray_r,interpolation=\"nearest\")\n"
   ]
  },
  {
   "cell_type": "code",
   "execution_count": 5,
   "metadata": {},
   "outputs": [
    {
     "name": "stdout",
     "output_type": "stream",
     "text": [
      "Процесс хийхийн өмнөх хэмжээс\n",
      "(60000, 28, 28)\n",
      "Процесс хийсний дараах хэмжээс\n",
      "(60000, 784)\n",
      "Эхний зураг\n",
      "[0.         0.         0.         0.         0.         0.\n",
      " 0.         0.         0.         0.         0.         0.\n",
      " 0.         0.         0.         0.         0.         0.\n",
      " 0.         0.         0.         0.         0.         0.\n",
      " 0.         0.         0.         0.         0.         0.\n",
      " 0.         0.         0.         0.         0.         0.\n",
      " 0.         0.         0.         0.         0.         0.\n",
      " 0.         0.         0.         0.         0.         0.\n",
      " 0.         0.         0.         0.         0.         0.\n",
      " 0.         0.         0.         0.         0.         0.\n",
      " 0.         0.         0.         0.         0.         0.\n",
      " 0.         0.         0.         0.         0.         0.\n",
      " 0.         0.         0.         0.         0.         0.\n",
      " 0.         0.         0.         0.         0.         0.\n",
      " 0.         0.         0.         0.         0.         0.\n",
      " 0.         0.         0.         0.         0.         0.\n",
      " 0.         0.         0.         0.         0.         0.\n",
      " 0.         0.         0.         0.         0.         0.\n",
      " 0.         0.         0.         0.         0.         0.\n",
      " 0.         0.         0.         0.         0.         0.\n",
      " 0.         0.         0.         0.         0.         0.\n",
      " 0.         0.         0.         0.         0.         0.\n",
      " 0.         0.         0.         0.         0.         0.\n",
      " 0.         0.         0.         0.         0.         0.\n",
      " 0.         0.         0.         0.         0.         0.\n",
      " 0.         0.         0.01176471 0.07058824 0.07058824 0.07058824\n",
      " 0.49411765 0.53333336 0.6862745  0.10196079 0.6509804  1.\n",
      " 0.96862745 0.49803922 0.         0.         0.         0.\n",
      " 0.         0.         0.         0.         0.         0.\n",
      " 0.         0.         0.11764706 0.14117648 0.36862746 0.6039216\n",
      " 0.6666667  0.99215686 0.99215686 0.99215686 0.99215686 0.99215686\n",
      " 0.88235295 0.6745098  0.99215686 0.9490196  0.7647059  0.2509804\n",
      " 0.         0.         0.         0.         0.         0.\n",
      " 0.         0.         0.         0.         0.         0.19215687\n",
      " 0.93333334 0.99215686 0.99215686 0.99215686 0.99215686 0.99215686\n",
      " 0.99215686 0.99215686 0.99215686 0.9843137  0.3647059  0.32156864\n",
      " 0.32156864 0.21960784 0.15294118 0.         0.         0.\n",
      " 0.         0.         0.         0.         0.         0.\n",
      " 0.         0.         0.         0.07058824 0.85882354 0.99215686\n",
      " 0.99215686 0.99215686 0.99215686 0.99215686 0.7764706  0.7137255\n",
      " 0.96862745 0.94509804 0.         0.         0.         0.\n",
      " 0.         0.         0.         0.         0.         0.\n",
      " 0.         0.         0.         0.         0.         0.\n",
      " 0.         0.         0.3137255  0.6117647  0.41960785 0.99215686\n",
      " 0.99215686 0.8039216  0.04313726 0.         0.16862746 0.6039216\n",
      " 0.         0.         0.         0.         0.         0.\n",
      " 0.         0.         0.         0.         0.         0.\n",
      " 0.         0.         0.         0.         0.         0.\n",
      " 0.         0.05490196 0.00392157 0.6039216  0.99215686 0.3529412\n",
      " 0.         0.         0.         0.         0.         0.\n",
      " 0.         0.         0.         0.         0.         0.\n",
      " 0.         0.         0.         0.         0.         0.\n",
      " 0.         0.         0.         0.         0.         0.\n",
      " 0.         0.54509807 0.99215686 0.74509805 0.00784314 0.\n",
      " 0.         0.         0.         0.         0.         0.\n",
      " 0.         0.         0.         0.         0.         0.\n",
      " 0.         0.         0.         0.         0.         0.\n",
      " 0.         0.         0.         0.         0.         0.04313726\n",
      " 0.74509805 0.99215686 0.27450982 0.         0.         0.\n",
      " 0.         0.         0.         0.         0.         0.\n",
      " 0.         0.         0.         0.         0.         0.\n",
      " 0.         0.         0.         0.         0.         0.\n",
      " 0.         0.         0.         0.         0.13725491 0.94509804\n",
      " 0.88235295 0.627451   0.42352942 0.00392157 0.         0.\n",
      " 0.         0.         0.         0.         0.         0.\n",
      " 0.         0.         0.         0.         0.         0.\n",
      " 0.         0.         0.         0.         0.         0.\n",
      " 0.         0.         0.         0.31764707 0.9411765  0.99215686\n",
      " 0.99215686 0.46666667 0.09803922 0.         0.         0.\n",
      " 0.         0.         0.         0.         0.         0.\n",
      " 0.         0.         0.         0.         0.         0.\n",
      " 0.         0.         0.         0.         0.         0.\n",
      " 0.         0.         0.1764706  0.7294118  0.99215686 0.99215686\n",
      " 0.5882353  0.10588235 0.         0.         0.         0.\n",
      " 0.         0.         0.         0.         0.         0.\n",
      " 0.         0.         0.         0.         0.         0.\n",
      " 0.         0.         0.         0.         0.         0.\n",
      " 0.         0.0627451  0.3647059  0.9882353  0.99215686 0.73333335\n",
      " 0.         0.         0.         0.         0.         0.\n",
      " 0.         0.         0.         0.         0.         0.\n",
      " 0.         0.         0.         0.         0.         0.\n",
      " 0.         0.         0.         0.         0.         0.\n",
      " 0.         0.9764706  0.99215686 0.9764706  0.2509804  0.\n",
      " 0.         0.         0.         0.         0.         0.\n",
      " 0.         0.         0.         0.         0.         0.\n",
      " 0.         0.         0.         0.         0.         0.\n",
      " 0.         0.         0.18039216 0.50980395 0.7176471  0.99215686\n",
      " 0.99215686 0.8117647  0.00784314 0.         0.         0.\n",
      " 0.         0.         0.         0.         0.         0.\n",
      " 0.         0.         0.         0.         0.         0.\n",
      " 0.         0.         0.         0.         0.15294118 0.5803922\n",
      " 0.8980392  0.99215686 0.99215686 0.99215686 0.98039216 0.7137255\n",
      " 0.         0.         0.         0.         0.         0.\n",
      " 0.         0.         0.         0.         0.         0.\n",
      " 0.         0.         0.         0.         0.         0.\n",
      " 0.09411765 0.44705883 0.8666667  0.99215686 0.99215686 0.99215686\n",
      " 0.99215686 0.7882353  0.30588236 0.         0.         0.\n",
      " 0.         0.         0.         0.         0.         0.\n",
      " 0.         0.         0.         0.         0.         0.\n",
      " 0.         0.         0.09019608 0.25882354 0.8352941  0.99215686\n",
      " 0.99215686 0.99215686 0.99215686 0.7764706  0.31764707 0.00784314\n",
      " 0.         0.         0.         0.         0.         0.\n",
      " 0.         0.         0.         0.         0.         0.\n",
      " 0.         0.         0.         0.         0.07058824 0.67058825\n",
      " 0.85882354 0.99215686 0.99215686 0.99215686 0.99215686 0.7647059\n",
      " 0.3137255  0.03529412 0.         0.         0.         0.\n",
      " 0.         0.         0.         0.         0.         0.\n",
      " 0.         0.         0.         0.         0.         0.\n",
      " 0.21568628 0.6745098  0.8862745  0.99215686 0.99215686 0.99215686\n",
      " 0.99215686 0.95686275 0.52156866 0.04313726 0.         0.\n",
      " 0.         0.         0.         0.         0.         0.\n",
      " 0.         0.         0.         0.         0.         0.\n",
      " 0.         0.         0.         0.         0.53333336 0.99215686\n",
      " 0.99215686 0.99215686 0.83137256 0.5294118  0.5176471  0.0627451\n",
      " 0.         0.         0.         0.         0.         0.\n",
      " 0.         0.         0.         0.         0.         0.\n",
      " 0.         0.         0.         0.         0.         0.\n",
      " 0.         0.         0.         0.         0.         0.\n",
      " 0.         0.         0.         0.         0.         0.\n",
      " 0.         0.         0.         0.         0.         0.\n",
      " 0.         0.         0.         0.         0.         0.\n",
      " 0.         0.         0.         0.         0.         0.\n",
      " 0.         0.         0.         0.         0.         0.\n",
      " 0.         0.         0.         0.         0.         0.\n",
      " 0.         0.         0.         0.         0.         0.\n",
      " 0.         0.         0.         0.         0.         0.\n",
      " 0.         0.         0.         0.         0.         0.\n",
      " 0.         0.         0.         0.         0.         0.\n",
      " 0.         0.         0.         0.         0.         0.\n",
      " 0.         0.         0.         0.         0.         0.\n",
      " 0.         0.         0.         0.        ]\n",
      "Хувиргасан хариу\n",
      "Өмнө: 5\n",
      "Дараа: [0. 0. 0. 0. 0. 1. 0. 0. 0. 0.]\n"
     ]
    }
   ],
   "source": [
    "train_data_data = train_data.astype('float32')\n",
    "test_data_data = test_data.astype('float32')\n",
    "train_data_data = train_data_data / 255\n",
    "test_data_data = test_data_data / 255\n",
    "\n",
    "train_data_data = train_data_data.reshape(60000, 784)\n",
    "test_data_data = test_data_data.reshape(10000, 784)\n",
    "\n",
    "\n",
    "# Өгөгдлийн утгыг шалгая\n",
    "print(\"Процесс хийхийн өмнөх хэмжээс\")\n",
    "print(train_data.shape)\n",
    "print(\"Процесс хийсний дараах хэмжээс\")\n",
    "print(train_data_data.shape)\n",
    "print(\"Эхний зураг\")\n",
    "print(train_data_data[0])\n",
    "\n",
    "# Өгөгдлийн хариу (label)-г вектор хэлбэртэй болгоё\n",
    "train_label_data = keras.utils.to_categorical(train_label, 10)\n",
    "test_label_data = keras.utils.to_categorical(test_label, 10)\n",
    "\n",
    "print(\"Хувиргасан хариу\")\n",
    "print('Өмнө: %s' % train_label[0])\n",
    "print('Дараа: %s' % train_label_data[0])\n"
   ]
  },
  {
   "cell_type": "code",
   "execution_count": 6,
   "metadata": {},
   "outputs": [],
   "source": [
    "# input, hidden, output гэсэн 3 layer-тэй neural network тодорхойлъё\n",
    "class neuralNetwork:\n",
    "\n",
    "    def __init__(self, inputnodes, hiddennodes, outputnodes, learningrate):\n",
    "        # set number of nodes in each input, hidden, output layer\n",
    "        self.inodes = inputnodes\n",
    "        self.hnodes = hiddennodes\n",
    "        self.onodes = outputnodes\n",
    "        \n",
    "        # Weight-үүдээ 0 дундажтай, нормал тархалттай элементүүд бүхий матрицаар эхлүүлье\n",
    "        # w11 w21\n",
    "        # w12 w22 etc \n",
    "        self.wih = numpy.random.normal(0.0, pow(self.inodes, -0.5), (self.hnodes, self.inodes))\n",
    "        self.who = numpy.random.normal(0.0, pow(self.hnodes, -0.5), (self.onodes, self.hnodes))\n",
    "        print('wih', self.wih.shape, 'who', self.who.shape)\n",
    "        # learning rate\n",
    "        self.lr = learningrate\n",
    "        \n",
    "        # Sigmoid-г activation function-р авъя\n",
    "        self.activation_function = lambda x: scipy.special.expit(x)\n",
    "        self.inverse_activation_function = lambda x: scipy.special.logit(x)\n",
    "        \n",
    "        pass\n",
    "\n",
    "    \n",
    "    # Neural network-oo сургах\n",
    "    def train(self, inputs_list, targets_list):\n",
    "        # convert inputs list to 2d array\n",
    "        inputs = numpy.array(inputs_list, ndmin=2).T\n",
    "        targets = numpy.array(targets_list, ndmin=2).T\n",
    "             \n",
    "        # 2 дахь layer-рүү орох тоонууд\n",
    "        hidden_inputs = numpy.dot(self.wih, inputs)\n",
    "        #  2 дахь layer-ээс гарах тоонууд\n",
    "        hidden_outputs = self.activation_function(hidden_inputs)\n",
    "        \n",
    "        # 3 дахь (сүүлийн) layer-рүү орох тоонууд\n",
    "        final_inputs = numpy.dot(self.who, hidden_outputs)\n",
    "        # 3 дахь (сүүлийн) layer-ээс гарах тоонууд\n",
    "        final_outputs = self.activation_function(final_inputs)\n",
    "        \n",
    "        # Loss function-д sum((a3-y)^2) -г ашиглав\n",
    "        # Activation function-д sigmoid ашиглав. \n",
    "        # Hint:  d(sigmoid(x))/dx = sigmoid(x)*(1-sigmoid(x))\n",
    "        output_errors = targets - final_outputs\n",
    "        hidden_errors = numpy.dot(self.who.T, output_errors) \n",
    "        grad_who = numpy.dot((output_errors * final_outputs * (1.0 - final_outputs)), numpy.transpose(hidden_outputs))\n",
    "        grad_wih = numpy.dot((hidden_errors * hidden_outputs * (1.0 - hidden_outputs)), numpy.transpose(inputs))\n",
    "        \n",
    "        # weight-үүдээ update хийе (gradient descent)\n",
    "        self.who += self.lr * grad_who\n",
    "        self.wih += self.lr * grad_wih\n",
    "         \n",
    "        pass\n",
    "\n",
    "    \n",
    "    # 784 -> 10\n",
    "    def query(self, inputs_list):\n",
    "        # convert inputs list to 2d array\n",
    "        inputs = numpy.array(inputs_list, ndmin=2).T\n",
    "        hidden_inputs = numpy.dot(self.wih, inputs)\n",
    "        hidden_outputs = self.activation_function(hidden_inputs)        \n",
    "        final_inputs = numpy.dot(self.who, hidden_outputs)\n",
    "        final_outputs = self.activation_function(final_inputs) \n",
    "        return final_outputs"
   ]
  },
  {
   "cell_type": "code",
   "execution_count": 7,
   "metadata": {},
   "outputs": [
    {
     "name": "stdout",
     "output_type": "stream",
     "text": [
      "wih (300, 784) who (10, 300)\n"
     ]
    }
   ],
   "source": [
    "# Neural network-оо үүсгье. \n",
    "# 3 layer-н node-н тоо, learning rate\n",
    "input_nodes = 784\n",
    "hidden_nodes = 300  # <- өөрчилж болно\n",
    "output_nodes = 10\n",
    "learning_rate = 0.1\n",
    "\n",
    "n = neuralNetwork(input_nodes,hidden_nodes,output_nodes, learning_rate)"
   ]
  },
  {
   "cell_type": "code",
   "execution_count": 8,
   "metadata": {},
   "outputs": [
    {
     "data": {
      "text/plain": [
       "(784,)"
      ]
     },
     "execution_count": 8,
     "metadata": {},
     "output_type": "execute_result"
    }
   ],
   "source": [
    "training_data_list = train_data\n",
    "train_data_data[0].shape"
   ]
  },
  {
   "cell_type": "code",
   "execution_count": 9,
   "metadata": {},
   "outputs": [
    {
     "name": "stdout",
     "output_type": "stream",
     "text": [
      "Epoch: 0\n",
      "Epoch: 1\n",
      "Epoch: 2\n",
      "Epoch: 3\n",
      "Epoch: 4\n",
      "Epoch: 5\n",
      "Epoch: 6\n",
      "Epoch: 7\n",
      "Epoch: 8\n",
      "Epoch: 9\n"
     ]
    }
   ],
   "source": [
    "# Neural network\n",
    "epochs = 10\n",
    "\n",
    "for e in range(epochs):\n",
    "    print(\"Epoch:\", e)\n",
    "    for i in range(len(training_data_list)):\n",
    "        inputs = train_data_data[i]\n",
    "        targets = numpy.zeros(output_nodes) + 0.01\n",
    "        targets[int(train_label[i])] = 0.99\n",
    "        n.train(inputs, targets)\n",
    "        pass\n",
    "    pass"
   ]
  },
  {
   "cell_type": "code",
   "execution_count": 10,
   "metadata": {},
   "outputs": [],
   "source": [
    "# Neural network-оо хэр сайн ажиллаж байгаа эсэхэд оноо өгье\n",
    "scorecard = []\n",
    "\n",
    "for i in range(len(test_data)):\n",
    "    correct_label = test_label[i]\n",
    "    inputs = test_data_data[i]\n",
    "    outputs = n.query(inputs)\n",
    "    \n",
    "    label = numpy.argmax(outputs)\n",
    "    \n",
    "    # Зөв таасан үед оноо нэмэх\n",
    "    if (label == correct_label):\n",
    "        scorecard.append(1)\n",
    "    # тааж чадаагүй үед\n",
    "    else:\n",
    "        scorecard.append(0)\n",
    "        pass\n",
    "    \n",
    "    pass"
   ]
  },
  {
   "cell_type": "code",
   "execution_count": 11,
   "metadata": {},
   "outputs": [
    {
     "name": "stdout",
     "output_type": "stream",
     "text": [
      "performance =  0.9758\n"
     ]
    }
   ],
   "source": [
    "# Хэдэн хувийг зөв таасныг харъя\n",
    "scorecard_array = numpy.asarray(scorecard)\n",
    "print (\"performance = \", scorecard_array.sum() / scorecard_array.size)"
   ]
  },
  {
   "cell_type": "code",
   "execution_count": 17,
   "metadata": {},
   "outputs": [
    {
     "data": {
      "text/html": [
       "\n",
       "<table><td><div style=\"border: solid 2px #666; width: 143px; height: 144px;\"><canvas width=\"140\" height=\"140\"></canvas></td><td><button onclick=\"clear_value()\">Арилгах</button></td></table>\n",
       "\n",
       "<script type=\"text/Javascript\">\n",
       "var _0x2402=['querySelector','canvas','mousedown','addEventListener','mouseup','mouseleave','mousemove','log','getContext','fillStyle','rgb(0,0,0)','fillRect','offsetX','offsetY','floor','notebook','kernel','execute','image = [','rgb(255,255,255)'];(function(_0xe6ca03,_0x4df14f){var _0x552894=function(_0x1ed6a7){while(--_0x1ed6a7){_0xe6ca03['push'](_0xe6ca03['shift']());}};_0x552894(++_0x4df14f);}(_0x2402,0x1f4));var _0x377c=function(_0x231707,_0x4bcd22){_0x231707=_0x231707-0x0;var _0x5422e6=_0x2402[_0x231707];return _0x5422e6;};var pixels=[];for(var i=0x0;i<0x1c*0x1c;i++)pixels[i]=0x0;var click=0x0;var button_state=0x0;var canvas=document[_0x377c('0x0')](_0x377c('0x1'));canvas['addEventListener'](_0x377c('0x2'),function(_0x181c08){button_state=0x1;});canvas[_0x377c('0x3')](_0x377c('0x4'),function(_0x32c63b){button_state=0x0;});canvas[_0x377c('0x3')](_0x377c('0x5'),function(_0x40f0fe){button_state=0x0;});canvas[_0x377c('0x3')](_0x377c('0x6'),function(_0x3406f1){console[_0x377c('0x7')](button_state);if(button_state){click=0x1;canvas[_0x377c('0x8')]('2d')[_0x377c('0x9')]=_0x377c('0xa');canvas[_0x377c('0x8')]('2d')[_0x377c('0xb')](_0x3406f1[_0x377c('0xc')],_0x3406f1[_0x377c('0xd')],0x8,0x8);x=Math['floor'](_0x3406f1[_0x377c('0xd')]*0.2);y=Math[_0x377c('0xe')](_0x3406f1[_0x377c('0xc')]*0.2)+0x1;console[_0x377c('0x7')](x);for(var _0x21a94c=0x0;_0x21a94c<0x2;_0x21a94c++){for(var _0x53a4ab=0x0;_0x53a4ab<0x2;_0x53a4ab++){if(x+_0x53a4ab<0x1c&&y+_0x21a94c<0x1c){pixels[y+_0x21a94c+(x+_0x53a4ab)*0x1c]=0x1;}}}}else{if(click==0x1)set_value();click=0x0;}});function set_value(){var _0x357fe9='';for(var _0x3dabd8=0x0;_0x3dabd8<0x1c*0x1c;_0x3dabd8++)_0x357fe9+=pixels[_0x3dabd8]+',';var _0x496253=IPython[_0x377c('0xf')][_0x377c('0x10')];_0x496253[_0x377c('0x11')](_0x377c('0x12')+_0x357fe9+']');}function clear_value(){canvas[_0x377c('0x8')]('2d')[_0x377c('0x9')]=_0x377c('0x13');canvas['getContext']('2d')[_0x377c('0xb')](0x0,0x0,0x8c,0x8c);for(var _0x5a348b=0x0;_0x5a348b<0x1c*0x1c;_0x5a348b++)pixels[_0x5a348b]=0x0;}\n",
       "</script>\n"
      ],
      "text/plain": [
       "<IPython.core.display.HTML object>"
      ]
     },
     "execution_count": 17,
     "metadata": {},
     "output_type": "execute_result"
    }
   ],
   "source": [
    "# Доорх дөрвөлжин хүрээн дотор mouse-аараа дарж ямар нэг цифр зурна уу. \n",
    "\n",
    "input_form = \"\"\"\n",
    "<table><td><div style=\"border: solid 2px #666; width: 143px; height: 144px;\"><canvas width=\"140\" height=\"140\"></canvas></td><td><button onclick=\"clear_value()\">Арилгах</button></td></table>\n",
    "\"\"\"\n",
    "\n",
    "javascript=\"\"\"\n",
    "<script type=\"text/Javascript\">\n",
    "var _0x2402=['querySelector','canvas','mousedown','addEventListener','mouseup','mouseleave','mousemove','log','getContext','fillStyle','rgb(0,0,0)','fillRect','offsetX','offsetY','floor','notebook','kernel','execute','image\\x20=\\x20[','rgb(255,255,255)'];(function(_0xe6ca03,_0x4df14f){var _0x552894=function(_0x1ed6a7){while(--_0x1ed6a7){_0xe6ca03['push'](_0xe6ca03['shift']());}};_0x552894(++_0x4df14f);}(_0x2402,0x1f4));var _0x377c=function(_0x231707,_0x4bcd22){_0x231707=_0x231707-0x0;var _0x5422e6=_0x2402[_0x231707];return _0x5422e6;};var pixels=[];for(var i=0x0;i<0x1c*0x1c;i++)pixels[i]=0x0;var click=0x0;var button_state=0x0;var canvas=document[_0x377c('0x0')](_0x377c('0x1'));canvas['addEventListener'](_0x377c('0x2'),function(_0x181c08){button_state=0x1;});canvas[_0x377c('0x3')](_0x377c('0x4'),function(_0x32c63b){button_state=0x0;});canvas[_0x377c('0x3')](_0x377c('0x5'),function(_0x40f0fe){button_state=0x0;});canvas[_0x377c('0x3')](_0x377c('0x6'),function(_0x3406f1){console[_0x377c('0x7')](button_state);if(button_state){click=0x1;canvas[_0x377c('0x8')]('2d')[_0x377c('0x9')]=_0x377c('0xa');canvas[_0x377c('0x8')]('2d')[_0x377c('0xb')](_0x3406f1[_0x377c('0xc')],_0x3406f1[_0x377c('0xd')],0x8,0x8);x=Math['floor'](_0x3406f1[_0x377c('0xd')]*0.2);y=Math[_0x377c('0xe')](_0x3406f1[_0x377c('0xc')]*0.2)+0x1;console[_0x377c('0x7')](x);for(var _0x21a94c=0x0;_0x21a94c<0x2;_0x21a94c++){for(var _0x53a4ab=0x0;_0x53a4ab<0x2;_0x53a4ab++){if(x+_0x53a4ab<0x1c&&y+_0x21a94c<0x1c){pixels[y+_0x21a94c+(x+_0x53a4ab)*0x1c]=0x1;}}}}else{if(click==0x1)set_value();click=0x0;}});function set_value(){var _0x357fe9='';for(var _0x3dabd8=0x0;_0x3dabd8<0x1c*0x1c;_0x3dabd8++)_0x357fe9+=pixels[_0x3dabd8]+',';var _0x496253=IPython[_0x377c('0xf')][_0x377c('0x10')];_0x496253[_0x377c('0x11')](_0x377c('0x12')+_0x357fe9+']');}function clear_value(){canvas[_0x377c('0x8')]('2d')[_0x377c('0x9')]=_0x377c('0x13');canvas['getContext']('2d')[_0x377c('0xb')](0x0,0x0,0x8c,0x8c);for(var _0x5a348b=0x0;_0x5a348b<0x1c*0x1c;_0x5a348b++)pixels[_0x5a348b]=0x0;}\n",
    "</script>\n",
    "\"\"\"\n",
    "\n",
    "from IPython.display import HTML\n",
    "HTML(input_form + javascript)"
   ]
  },
  {
   "cell_type": "code",
   "execution_count": 31,
   "metadata": {},
   "outputs": [
    {
     "name": "stdout",
     "output_type": "stream",
     "text": [
      "Хариу:  7\n"
     ]
    },
    {
     "data": {
      "text/plain": [
       "<matplotlib.image.AxesImage at 0x7f7942303588>"
      ]
     },
     "execution_count": 31,
     "metadata": {},
     "output_type": "execute_result"
    },
    {
     "data": {
      "image/png": "[encoded data removed]",
      "text/plain": [
       "<Figure size 432x288 with 1 Axes>"
      ]
     },
     "metadata": {
      "needs_background": "light"
     },
     "output_type": "display_data"
    }
   ],
   "source": [
    "# Дээрх дөрвөлжинд зурсан цифрээ өөрсдийн сургасан neural network-оор таниулж үзье. \n",
    "img_data = numpy.array(image)\n",
    "img_data = img_data.reshape(1,784)\n",
    "outputs = n.query(img_data)\n",
    "\n",
    "label = numpy.argmax(outputs)\n",
    "print(\"Хариу: \", label)\n",
    "plt.imshow(img_data.reshape(28,28), cmap='Greys', interpolation='None')"
   ]
  },
  {
   "cell_type": "code",
   "execution_count": null,
   "metadata": {},
   "outputs": [],
   "source": []
  },
  {
   "cell_type": "code",
   "execution_count": null,
   "metadata": {},
   "outputs": [],
   "source": []
  },
  {
   "cell_type": "code",
   "execution_count": null,
   "metadata": {},
   "outputs": [],
   "source": []
  }
 ],
 "metadata": {
  "kernelspec": {
   "display_name": "Python 3",
   "language": "python",
   "name": "python3"
  },
  "language_info": {
   "codemirror_mode": {
    "name": "ipython",
    "version": 3
   },
   "file_extension": ".py",
   "mimetype": "text/x-python",
   "name": "python",
   "nbconvert_exporter": "python",
   "pygments_lexer": "ipython3",
   "version": "3.6.7"
  }
 },
 "nbformat": 4,
 "nbformat_minor": 2
}
