{
 "cells": [
  {
   "cell_type": "markdown",
   "metadata": {},
   "source": [
    "# Inference and Validation\n",
    "\n",
    "Now that you have a trained network, you can use it for making predictions. This is typically called **inference**, a term borrowed from statistics. However, neural networks have a tendency to perform *too well* on the training data and aren't able to generalize to data that hasn't been seen before. This is called **overfitting** and it impairs inference performance. To test for overfitting while training, we measure the performance on data not in the training set called the **validation** set. We avoid overfitting through regularization such as dropout while monitoring the validation performance during training. In this notebook, I'll show you how to do this in PyTorch. \n",
    "\n",
    "As usual, let's start by loading the dataset through torchvision. You'll learn more about torchvision and loading data in a later part. This time we'll be taking advantage of the test set which you can get by setting `train=False` here:\n",
    "\n",
    "```python\n",
    "testset = datasets.FashionMNIST('~/.pytorch/F_MNIST_data/', download=True, train=False, transform=transform)\n",
    "```\n",
    "\n",
    "The test set contains images just like the training set. Typically you'll see 10-20% of the original dataset held out for testing and validation with the rest being used for training."
   ]
  },
  {
   "cell_type": "code",
   "execution_count": 82,
   "metadata": {},
   "outputs": [],
   "source": [
    "import torch\n",
    "from torchvision import datasets, transforms\n",
    "\n",
    "# Define a transform to normalize the data\n",
    "# transform = transforms.Compose([transforms.ToTensor(),\n",
    "#                                 transforms.Normalize((0.5, 0.5, 0.5), (0.5, 0.5, 0.5))])\n",
    "transform = transforms.Compose([transforms.ToTensor(),\n",
    "                                transforms.Normalize([0.5], [0.5])])\n",
    "# Download and load the training data\n",
    "trainset = datasets.FashionMNIST('~/.pytorch/F_MNIST_data/', download=True, train=True, transform=transform)\n",
    "trainloader = torch.utils.data.DataLoader(trainset, batch_size=64, shuffle=True)\n",
    "\n",
    "# Download and load the test data\n",
    "testset = datasets.FashionMNIST('~/.pytorch/F_MNIST_data/', download=True, train=False, transform=transform)\n",
    "testloader = torch.utils.data.DataLoader(testset, batch_size=64, shuffle=True)\n",
    "\n",
    "device = torch.device(\"cuda:0\" if torch.cuda.is_available() else \"cpu\")"
   ]
  },
  {
   "cell_type": "markdown",
   "metadata": {},
   "source": [
    "Here I'll create a model like normal, using the same one from my solution for part 4."
   ]
  },
  {
   "cell_type": "code",
   "execution_count": 6,
   "metadata": {},
   "outputs": [],
   "source": [
    "from torch import nn, optim\n",
    "import torch.nn.functional as F\n",
    "\n",
    "class Classifier(nn.Module):\n",
    "    def __init__(self):\n",
    "        super().__init__()\n",
    "        self.fc1 = nn.Linear(784, 256)\n",
    "        self.fc2 = nn.Linear(256, 128)\n",
    "        self.fc3 = nn.Linear(128, 64)\n",
    "        self.fc4 = nn.Linear(64, 10)\n",
    "        \n",
    "    def forward(self, x):\n",
    "        # make sure input tensor is flattened\n",
    "        x = x.view(x.shape[0], -1)\n",
    "        \n",
    "        x = F.relu(self.fc1(x))\n",
    "        x = F.relu(self.fc2(x))\n",
    "        x = F.relu(self.fc3(x))\n",
    "        x = F.log_softmax(self.fc4(x), dim=1)\n",
    "        \n",
    "        return x"
   ]
  },
  {
   "cell_type": "markdown",
   "metadata": {},
   "source": [
    "The goal of validation is to measure the model's performance on data that isn't part of the training set. Performance here is up to the developer to define though. Typically this is just accuracy, the percentage of classes the network predicted correctly. Other options are [precision and recall](https://en.wikipedia.org/wiki/Precision_and_recall#Definition_(classification_context)) and top-5 error rate. We'll focus on accuracy here. First I'll do a forward pass with one batch from the test set."
   ]
  },
  {
   "cell_type": "code",
   "execution_count": 23,
   "metadata": {},
   "outputs": [
    {
     "name": "stdout",
     "output_type": "stream",
     "text": [
      "torch.Size([64, 10])\n"
     ]
    },
    {
     "data": {
      "text/plain": [
       "torch.return_types.topk(\n",
       "values=tensor([[0.1179],\n",
       "        [0.1141],\n",
       "        [0.1124],\n",
       "        [0.1090],\n",
       "        [0.1211],\n",
       "        [0.1100],\n",
       "        [0.1141],\n",
       "        [0.1130],\n",
       "        [0.1123],\n",
       "        [0.1145],\n",
       "        [0.1158],\n",
       "        [0.1108],\n",
       "        [0.1130],\n",
       "        [0.1136],\n",
       "        [0.1124],\n",
       "        [0.1103],\n",
       "        [0.1123],\n",
       "        [0.1185],\n",
       "        [0.1138],\n",
       "        [0.1145],\n",
       "        [0.1138],\n",
       "        [0.1107],\n",
       "        [0.1154],\n",
       "        [0.1146],\n",
       "        [0.1132],\n",
       "        [0.1132],\n",
       "        [0.1145],\n",
       "        [0.1120],\n",
       "        [0.1120],\n",
       "        [0.1156],\n",
       "        [0.1126],\n",
       "        [0.1112],\n",
       "        [0.1133],\n",
       "        [0.1144],\n",
       "        [0.1136],\n",
       "        [0.1145],\n",
       "        [0.1118],\n",
       "        [0.1116],\n",
       "        [0.1138],\n",
       "        [0.1180],\n",
       "        [0.1134],\n",
       "        [0.1094],\n",
       "        [0.1135],\n",
       "        [0.1142],\n",
       "        [0.1125],\n",
       "        [0.1121],\n",
       "        [0.1157],\n",
       "        [0.1126],\n",
       "        [0.1125],\n",
       "        [0.1081],\n",
       "        [0.1131],\n",
       "        [0.1143],\n",
       "        [0.1154],\n",
       "        [0.1146],\n",
       "        [0.1140],\n",
       "        [0.1125],\n",
       "        [0.1119],\n",
       "        [0.1134],\n",
       "        [0.1156],\n",
       "        [0.1161],\n",
       "        [0.1146],\n",
       "        [0.1160],\n",
       "        [0.1170],\n",
       "        [0.1155]], grad_fn=<TopkBackward>),\n",
       "indices=tensor([[0],\n",
       "        [0],\n",
       "        [0],\n",
       "        [4],\n",
       "        [0],\n",
       "        [0],\n",
       "        [0],\n",
       "        [4],\n",
       "        [0],\n",
       "        [0],\n",
       "        [0],\n",
       "        [0],\n",
       "        [0],\n",
       "        [0],\n",
       "        [0],\n",
       "        [0],\n",
       "        [4],\n",
       "        [0],\n",
       "        [0],\n",
       "        [0],\n",
       "        [0],\n",
       "        [0],\n",
       "        [0],\n",
       "        [0],\n",
       "        [0],\n",
       "        [4],\n",
       "        [0],\n",
       "        [0],\n",
       "        [0],\n",
       "        [0],\n",
       "        [0],\n",
       "        [3],\n",
       "        [0],\n",
       "        [0],\n",
       "        [0],\n",
       "        [0],\n",
       "        [0],\n",
       "        [0],\n",
       "        [0],\n",
       "        [0],\n",
       "        [0],\n",
       "        [0],\n",
       "        [0],\n",
       "        [0],\n",
       "        [0],\n",
       "        [0],\n",
       "        [0],\n",
       "        [0],\n",
       "        [4],\n",
       "        [0],\n",
       "        [0],\n",
       "        [0],\n",
       "        [0],\n",
       "        [0],\n",
       "        [0],\n",
       "        [0],\n",
       "        [4],\n",
       "        [0],\n",
       "        [0],\n",
       "        [0],\n",
       "        [0],\n",
       "        [0],\n",
       "        [0],\n",
       "        [0]]))"
      ]
     },
     "execution_count": 23,
     "metadata": {},
     "output_type": "execute_result"
    }
   ],
   "source": [
    "model = Classifier()\n",
    "\n",
    "images, labels = next(iter(testloader))\n",
    "# Get the class probabilities\n",
    "ps = torch.exp(model(images))\n",
    "# Make sure the shape is appropriate, we should get 10 class probabilities for 64 examples\n",
    "print(ps.shape)\n",
    "ps.topk(1)"
   ]
  },
  {
   "cell_type": "markdown",
   "metadata": {},
   "source": [
    "With the probabilities, we can get the most likely class using the `ps.topk` method. This returns the $k$ highest values. Since we just want the most likely class, we can use `ps.topk(1)`. This returns a tuple of the top-$k$ values and the top-$k$ indices. If the highest value is the fifth element, we'll get back 4 as the index."
   ]
  },
  {
   "cell_type": "code",
   "execution_count": 26,
   "metadata": {},
   "outputs": [
    {
     "name": "stdout",
     "output_type": "stream",
     "text": [
      "tensor([[0],\n",
      "        [0],\n",
      "        [0],\n",
      "        [4],\n",
      "        [0],\n",
      "        [0],\n",
      "        [0],\n",
      "        [4],\n",
      "        [0],\n",
      "        [0]]) tensor([[0.1179],\n",
      "        [0.1141],\n",
      "        [0.1124],\n",
      "        [0.1090],\n",
      "        [0.1211],\n",
      "        [0.1100],\n",
      "        [0.1141],\n",
      "        [0.1130],\n",
      "        [0.1123],\n",
      "        [0.1145]], grad_fn=<SliceBackward>)\n"
     ]
    }
   ],
   "source": [
    "top_p, top_class = ps.topk(1, dim=1)\n",
    "# Look at the most likely classes for the first 10 examples\n",
    "print(top_class[:10,:], top_p[:10,:])"
   ]
  },
  {
   "cell_type": "markdown",
   "metadata": {},
   "source": [
    "Now we can check if the predicted classes match the labels. This is simple to do by equating `top_class` and `labels`, but we have to be careful of the shapes. Here `top_class` is a 2D tensor with shape `(64, 1)` while `labels` is 1D with shape `(64)`. To get the equality to work out the way we want, `top_class` and `labels` must have the same shape.\n",
    "\n",
    "If we do\n",
    "\n",
    "```python\n",
    "equals = top_class == labels\n",
    "```\n",
    "\n",
    "`equals` will have shape `(64, 64)`, try it yourself. What it's doing is comparing the one element in each row of `top_class` with each element in `labels` which returns 64 True/False boolean values for each row."
   ]
  },
  {
   "cell_type": "code",
   "execution_count": 40,
   "metadata": {},
   "outputs": [],
   "source": [
    "equals = top_class == labels.reshape(top_class.shape)"
   ]
  },
  {
   "cell_type": "markdown",
   "metadata": {},
   "source": [
    "Now we need to calculate the percentage of correct predictions. `equals` has binary values, either 0 or 1. This means that if we just sum up all the values and divide by the number of values, we get the percentage of correct predictions. This is the same operation as taking the mean, so we can get the accuracy with a call to `torch.mean`. If only it was that simple. If you try `torch.mean(equals)`, you'll get an error\n",
    "\n",
    "```\n",
    "RuntimeError: mean is not implemented for type torch.ByteTensor\n",
    "```\n",
    "\n",
    "This happens because `equals` has type `torch.ByteTensor` but `torch.mean` isn't implemented for tensors with that type. So we'll need to convert `equals` to a float tensor. Note that when we take `torch.mean` it returns a scalar tensor, to get the actual value as a float we'll need to do `accuracy.item()`."
   ]
  },
  {
   "cell_type": "code",
   "execution_count": 42,
   "metadata": {},
   "outputs": [
    {
     "name": "stdout",
     "output_type": "stream",
     "text": [
      "Accuracy: 15.625%\n"
     ]
    }
   ],
   "source": [
    "accuracy = torch.mean(equals.type(torch.FloatTensor))\n",
    "print(f'Accuracy: {accuracy.item()*100}%')"
   ]
  },
  {
   "cell_type": "markdown",
   "metadata": {},
   "source": [
    "The network is untrained so it's making random guesses and we should see an accuracy around 10%. Now let's train our network and include our validation pass so we can measure how well the network is performing on the test set. Since we're not updating our parameters in the validation pass, we can speed up our code by turning off gradients using `torch.no_grad()`:\n",
    "\n",
    "```python\n",
    "# turn off gradients\n",
    "with torch.no_grad():\n",
    "    # validation pass here\n",
    "    for images, labels in testloader:\n",
    "        ...\n",
    "```\n",
    "\n",
    ">**Exercise:** Implement the validation loop below and print out the total accuracy after the loop. You can largely copy and paste the code from above, but I suggest typing it in because writing it out yourself is essential for building the skill. In general you'll always learn more by typing it rather than copy-pasting. You should be able to get an accuracy above 80%."
   ]
  },
  {
   "cell_type": "code",
   "execution_count": 62,
   "metadata": {},
   "outputs": [
    {
     "name": "stdout",
     "output_type": "stream",
     "text": [
      "Epoch: 1 Accuracy: 83.61% loss: 0.5121\n",
      "Epoch: 2 Accuracy: 84.86% loss: 0.3952\n",
      "Epoch: 3 Accuracy: 86.16% loss: 0.3560\n",
      "Epoch: 4 Accuracy: 84.09% loss: 0.3360\n",
      "Epoch: 5 Accuracy: 85.96% loss: 0.3187\n",
      "Epoch: 6 Accuracy: 86.88% loss: 0.3053\n",
      "Epoch: 7 Accuracy: 87.64% loss: 0.2902\n",
      "Epoch: 8 Accuracy: 86.94% loss: 0.2855\n",
      "Epoch: 9 Accuracy: 87.30% loss: 0.2756\n",
      "Epoch: 10 Accuracy: 87.96% loss: 0.2671\n",
      "Epoch: 11 Accuracy: 87.24% loss: 0.2575\n",
      "Epoch: 12 Accuracy: 87.57% loss: 0.2579\n",
      "Epoch: 13 Accuracy: 87.99% loss: 0.2462\n",
      "Epoch: 14 Accuracy: 87.47% loss: 0.2407\n",
      "Epoch: 15 Accuracy: 87.15% loss: 0.2357\n",
      "Epoch: 16 Accuracy: 87.59% loss: 0.2287\n",
      "Epoch: 17 Accuracy: 87.82% loss: 0.2291\n",
      "Epoch: 18 Accuracy: 87.90% loss: 0.2223\n",
      "Epoch: 19 Accuracy: 88.09% loss: 0.2155\n",
      "Epoch: 20 Accuracy: 88.30% loss: 0.2148\n",
      "Epoch: 21 Accuracy: 87.92% loss: 0.2148\n",
      "Epoch: 22 Accuracy: 88.36% loss: 0.1998\n",
      "Epoch: 23 Accuracy: 88.01% loss: 0.1972\n",
      "Epoch: 24 Accuracy: 87.70% loss: 0.1984\n",
      "Epoch: 25 Accuracy: 87.92% loss: 0.2021\n",
      "Epoch: 26 Accuracy: 88.39% loss: 0.1894\n",
      "Epoch: 27 Accuracy: 88.19% loss: 0.1928\n",
      "Epoch: 28 Accuracy: 88.81% loss: 0.1838\n",
      "Epoch: 29 Accuracy: 88.48% loss: 0.1859\n",
      "Epoch: 30 Accuracy: 88.72% loss: 0.1813\n"
     ]
    }
   ],
   "source": [
    "model = Classifier().to(device)\n",
    "criterion = nn.NLLLoss()\n",
    "optimizer = optim.Adam(model.parameters(), lr=0.003)\n",
    "\n",
    "epochs = 30\n",
    "steps = 0\n",
    "\n",
    "train_losses, test_losses = [], []\n",
    "for e in range(epochs):\n",
    "    running_loss = 0\n",
    "    for images, labels in trainloader:\n",
    "        \n",
    "        optimizer.zero_grad()\n",
    "        \n",
    "        log_ps = model(images.to(device))\n",
    "        loss = criterion(log_ps, labels.to(device))\n",
    "        loss.backward()\n",
    "        optimizer.step()\n",
    "        \n",
    "        running_loss += loss.item()\n",
    "        \n",
    "    else:\n",
    "        ## TODO: Implement the validation pass and print out the validation accuracy\n",
    "        accuracy = 0\n",
    "        test_loss = 0\n",
    "        \n",
    "        with torch.no_grad():\n",
    "            for images, labels in testloader:\n",
    "                # put values to GPU \n",
    "                images = images.to(device)\n",
    "                labels = labels.to(device)\n",
    "                \n",
    "                testPred = model(images)\n",
    "                test_loss += criterion(testPred, labels)\n",
    "                \n",
    "                \n",
    "                top_p, top_class = testPred.topk(1, dim=1)\n",
    "                equals = top_class == labels.reshape(top_class.shape)\n",
    "                accuracy += equals.type(torch.FloatTensor).mean()\n",
    "                \n",
    "            accuracy = accuracy / len(testloader)\n",
    "            \n",
    "        train_losses.append(running_loss / len(trainloader))\n",
    "        test_losses.append(test_loss / len(testloader))\n",
    "        \n",
    "        print('Epoch:', e + 1,\n",
    "              'Accuracy: {:.2f}%'.format(accuracy * 100),\n",
    "              'training_loss: {:.4f}'.format(running_loss / len(trainloader)), \n",
    "              'test_loss: {:.4f}'.format(test_loss / len(testloader)))"
   ]
  },
  {
   "cell_type": "code",
   "execution_count": 63,
   "metadata": {},
   "outputs": [],
   "source": [
    "%matplotlib inline\n",
    "%config InlineBackend.figure_format = 'retina'\n",
    "\n",
    "import matplotlib.pyplot as plt"
   ]
  },
  {
   "cell_type": "code",
   "execution_count": 64,
   "metadata": {},
   "outputs": [
    {
     "data": {
      "text/plain": [
       "<matplotlib.legend.Legend at 0x7f5ce80eadd8>"
      ]
     },
     "execution_count": 64,
     "metadata": {},
     "output_type": "execute_result"
    },
    {
     "data": {
      "image/png": "[encoded data removed]",
      "text/plain": [
       "<Figure size 432x288 with 1 Axes>"
      ]
     },
     "metadata": {
      "image/png": {
       "height": 250,
       "width": 380
      },
      "needs_background": "light"
     },
     "output_type": "display_data"
    }
   ],
   "source": [
    "plt.plot(train_losses, label='Training loss')\n",
    "plt.plot(test_losses, label='Validation loss')\n",
    "plt.legend(frameon=False)"
   ]
  },
  {
   "cell_type": "markdown",
   "metadata": {},
   "source": [
    "## Overfitting\n",
    "\n",
    "If we look at the training and validation losses as we train the network, we can see a phenomenon known as overfitting.\n",
    "\n",
    "<img src='assets/overfitting.png' width=450px>\n",
    "\n",
    "The network learns the training set better and better, resulting in lower training losses. However, it starts having problems generalizing to data outside the training set leading to the validation loss increasing. The ultimate goal of any deep learning model is to make predictions on new data, so we should strive to get the lowest validation loss possible. One option is to use the version of the model with the lowest validation loss, here the one around 8-10 training epochs. This strategy is called *early-stopping*. In practice, you'd save the model frequently as you're training then later choose the model with the lowest validation loss.\n",
    "\n",
    "The most common method to reduce overfitting (outside of early-stopping) is *dropout*, where we randomly drop input units. This forces the network to share information between weights, increasing it's ability to generalize to new data. Adding dropout in PyTorch is straightforward using the [`nn.Dropout`](https://pytorch.org/docs/stable/nn.html#torch.nn.Dropout) module.\n",
    "\n",
    "```python\n",
    "class Classifier(nn.Module):\n",
    "    def __init__(self):\n",
    "        super().__init__()\n",
    "        self.fc1 = nn.Linear(784, 256)\n",
    "        self.fc2 = nn.Linear(256, 128)\n",
    "        self.fc3 = nn.Linear(128, 64)\n",
    "        self.fc4 = nn.Linear(64, 10)\n",
    "        \n",
    "        # Dropout module with 0.2 drop probability\n",
    "        self.dropout = nn.Dropout(p=0.2)\n",
    "        \n",
    "    def forward(self, x):\n",
    "        # make sure input tensor is flattened\n",
    "        x = x.view(x.shape[0], -1)\n",
    "        \n",
    "        # Now with dropout\n",
    "        x = self.dropout(F.relu(self.fc1(x)))\n",
    "        x = self.dropout(F.relu(self.fc2(x)))\n",
    "        x = self.dropout(F.relu(self.fc3(x)))\n",
    "        \n",
    "        # output so no dropout here\n",
    "        x = F.log_softmax(self.fc4(x), dim=1)\n",
    "        \n",
    "        return x\n",
    "```\n",
    "\n",
    "During training we want to use dropout to prevent overfitting, but during inference we want to use the entire network. So, we need to turn off dropout during validation, testing, and whenever we're using the network to make predictions. To do this, you use `model.eval()`. This sets the model to evaluation mode where the dropout probability is 0. You can turn dropout back on by setting the model to train mode with `model.train()`. In general, the pattern for the validation loop will look like this, where you turn off gradients, set the model to evaluation mode, calculate the validation loss and metric, then set the model back to train mode.\n",
    "\n",
    "```python\n",
    "# turn off gradients\n",
    "with torch.no_grad():\n",
    "    \n",
    "    # set model to evaluation mode\n",
    "    model.eval()\n",
    "    \n",
    "    # validation pass here\n",
    "    for images, labels in testloader:\n",
    "        ...\n",
    "\n",
    "# set model back to train mode\n",
    "model.train()\n",
    "```"
   ]
  },
  {
   "cell_type": "markdown",
   "metadata": {},
   "source": [
    "> **Exercise:** Add dropout to your model and train it on Fashion-MNIST again. See if you can get a lower validation loss or higher accuracy."
   ]
  },
  {
   "cell_type": "code",
   "execution_count": 71,
   "metadata": {},
   "outputs": [],
   "source": [
    "## TODO: Define your model with dropout added\n",
    "class Classifier(nn.Module):\n",
    "    def __init__(self):\n",
    "        super().__init__()\n",
    "        self.fc1 = nn.Linear(784, 500)\n",
    "        self.fc2 = nn.Linear(500, 128)\n",
    "        self.fc3 = nn.Linear(128, 10)\n",
    "\n",
    "        # Dropout module with 0.2 drop probability\n",
    "        self.dropout = nn.Dropout(p=0.2)\n",
    "\n",
    "    def forward(self, x):\n",
    "        # make sure input tensor is flattened\n",
    "        x = x.view(x.shape[0], -1)\n",
    "\n",
    "        # Now with dropout\n",
    "        x = self.dropout(F.relu(self.fc1(x)))\n",
    "        x = self.dropout(F.relu(self.fc2(x)))\n",
    "\n",
    "        # output so no dropout here\n",
    "        x = F.log_softmax(self.fc3(x), dim=1)\n",
    "\n",
    "        return x"
   ]
  },
  {
   "cell_type": "code",
   "execution_count": 72,
   "metadata": {},
   "outputs": [
    {
     "name": "stdout",
     "output_type": "stream",
     "text": [
      "Epoch: 1 Accuracy: 82.72% training_loss: 0.5604 test_loss: 0.4573\n",
      "Epoch: 2 Accuracy: 84.17% training_loss: 0.4568 test_loss: 0.4327\n",
      "Epoch: 3 Accuracy: 85.14% training_loss: 0.4269 test_loss: 0.4148\n",
      "Epoch: 4 Accuracy: 85.60% training_loss: 0.4081 test_loss: 0.3990\n",
      "Epoch: 5 Accuracy: 85.82% training_loss: 0.3996 test_loss: 0.3898\n",
      "Epoch: 6 Accuracy: 86.06% training_loss: 0.3858 test_loss: 0.3987\n",
      "Epoch: 7 Accuracy: 86.07% training_loss: 0.3811 test_loss: 0.3939\n",
      "Epoch: 8 Accuracy: 86.17% training_loss: 0.3757 test_loss: 0.3942\n",
      "Epoch: 9 Accuracy: 86.04% training_loss: 0.3657 test_loss: 0.3879\n",
      "Epoch: 10 Accuracy: 86.03% training_loss: 0.3703 test_loss: 0.3819\n",
      "Epoch: 11 Accuracy: 86.20% training_loss: 0.3555 test_loss: 0.3853\n",
      "Epoch: 12 Accuracy: 86.36% training_loss: 0.3497 test_loss: 0.3950\n",
      "Epoch: 13 Accuracy: 86.69% training_loss: 0.3509 test_loss: 0.3755\n",
      "Epoch: 14 Accuracy: 86.79% training_loss: 0.3461 test_loss: 0.3936\n",
      "Epoch: 15 Accuracy: 86.65% training_loss: 0.3422 test_loss: 0.3788\n",
      "Epoch: 16 Accuracy: 87.26% training_loss: 0.3414 test_loss: 0.3679\n",
      "Epoch: 17 Accuracy: 86.69% training_loss: 0.3376 test_loss: 0.4065\n",
      "Epoch: 18 Accuracy: 86.42% training_loss: 0.3379 test_loss: 0.3790\n",
      "Epoch: 19 Accuracy: 87.30% training_loss: 0.3345 test_loss: 0.3620\n",
      "Epoch: 20 Accuracy: 87.28% training_loss: 0.3285 test_loss: 0.3668\n",
      "Epoch: 21 Accuracy: 87.04% training_loss: 0.3240 test_loss: 0.3771\n",
      "Epoch: 22 Accuracy: 87.47% training_loss: 0.3278 test_loss: 0.3724\n",
      "Epoch: 23 Accuracy: 86.79% training_loss: 0.3216 test_loss: 0.3710\n",
      "Epoch: 24 Accuracy: 87.60% training_loss: 0.3171 test_loss: 0.3630\n",
      "Epoch: 25 Accuracy: 87.30% training_loss: 0.3260 test_loss: 0.3650\n",
      "Epoch: 26 Accuracy: 87.71% training_loss: 0.3157 test_loss: 0.3709\n",
      "Epoch: 27 Accuracy: 87.15% training_loss: 0.3237 test_loss: 0.3775\n",
      "Epoch: 28 Accuracy: 87.76% training_loss: 0.3151 test_loss: 0.3613\n",
      "Epoch: 29 Accuracy: 87.35% training_loss: 0.3082 test_loss: 0.3661\n",
      "Epoch: 30 Accuracy: 87.42% training_loss: 0.3108 test_loss: 0.3794\n"
     ]
    }
   ],
   "source": [
    "## TODO: Train your model with dropout, and monitor the training progress with the validation loss and accuracy\n",
    "model = Classifier().to(device)\n",
    "criterion = nn.NLLLoss()\n",
    "optimizer = optim.Adam(model.parameters(), lr=0.003)\n",
    "\n",
    "epochs = 30\n",
    "steps = 0\n",
    "\n",
    "train_losses, test_losses = [], []\n",
    "for e in range(epochs):\n",
    "    # train mode (with drop out)\n",
    "    model.train()\n",
    "    running_loss = 0\n",
    "    for images, labels in trainloader:\n",
    "        \n",
    "        optimizer.zero_grad()\n",
    "        \n",
    "        log_ps = model(images.to(device))\n",
    "        loss = criterion(log_ps, labels.to(device))\n",
    "        loss.backward()\n",
    "        optimizer.step()\n",
    "        \n",
    "        running_loss += loss.item()\n",
    "        \n",
    "    else:\n",
    "        ## TODO: Implement the validation pass and print out the validation accuracy\n",
    "        accuracy = 0\n",
    "        test_loss = 0\n",
    "        \n",
    "        with torch.no_grad():\n",
    "            \n",
    "            # evaluate mode (without drop out)\n",
    "            model.eval()\n",
    "            \n",
    "            for images, labels in testloader:\n",
    "                # put values to GPU \n",
    "                images = images.to(device)\n",
    "                labels = labels.to(device)\n",
    "                \n",
    "                testPred = model(images)\n",
    "                test_loss += criterion(testPred, labels)\n",
    "                \n",
    "                \n",
    "                top_p, top_class = testPred.topk(1, dim=1)\n",
    "                equals = top_class == labels.reshape(top_class.shape)\n",
    "                accuracy += equals.type(torch.FloatTensor).mean()\n",
    "                \n",
    "            accuracy = accuracy / len(testloader)\n",
    "            \n",
    "        train_losses.append(running_loss / len(trainloader))\n",
    "        test_losses.append(test_loss / len(testloader))\n",
    "        \n",
    "        print('Epoch:', e + 1,\n",
    "              'Accuracy: {:.2f}%'.format(accuracy * 100),\n",
    "              'training_loss: {:.4f}'.format(running_loss / len(trainloader)), \n",
    "              'test_loss: {:.4f}'.format(test_loss / len(testloader)))"
   ]
  },
  {
   "cell_type": "code",
   "execution_count": 73,
   "metadata": {},
   "outputs": [
    {
     "data": {
      "text/plain": [
       "<matplotlib.legend.Legend at 0x7f5ce8035780>"
      ]
     },
     "execution_count": 73,
     "metadata": {},
     "output_type": "execute_result"
    },
    {
     "data": {
      "image/png": "[encoded data removed]",
      "text/plain": [
       "<Figure size 432x288 with 1 Axes>"
      ]
     },
     "metadata": {
      "image/png": {
       "height": 250,
       "width": 380
      },
      "needs_background": "light"
     },
     "output_type": "display_data"
    }
   ],
   "source": [
    "plt.plot(train_losses, label='Training loss')\n",
    "plt.plot(test_losses, label='Validation loss')\n",
    "plt.legend(frameon=False)"
   ]
  },
  {
   "cell_type": "markdown",
   "metadata": {},
   "source": [
    "## Inference\n",
    "\n",
    "Now that the model is trained, we can use it for inference. We've done this before, but now we need to remember to set the model in inference mode with `model.eval()`. You'll also want to turn off autograd with the `torch.no_grad()` context."
   ]
  },
  {
   "cell_type": "code",
   "execution_count": 104,
   "metadata": {},
   "outputs": [
    {
     "data": {
      "image/png": "[encoded data removed]",
      "text/plain": [
       "<Figure size 432x648 with 2 Axes>"
      ]
     },
     "metadata": {
      "image/png": {
       "height": 206,
       "width": 423
      },
      "needs_background": "light"
     },
     "output_type": "display_data"
    }
   ],
   "source": [
    "# Import helper module (should be in the repo)\n",
    "import helper\n",
    "\n",
    "# Test out your network!\n",
    "\n",
    "model.eval()\n",
    "\n",
    "dataiter = iter(testloader)\n",
    "images, labels = dataiter.next()\n",
    "img = images[0]\n",
    "# Convert 2D image to 1D vector\n",
    "img = img.view(1, 784)\n",
    "\n",
    "# Calculate the class probabilities (softmax) for img\n",
    "with torch.no_grad():\n",
    "    output = model.forward(img.to(device))\n",
    "\n",
    "ps = torch.exp(output)\n",
    "\n",
    "# Plot the image and probabilities\n",
    "helper.view_classify(img.view(1, 28, 28), ps.cpu(), version='Fashion')"
   ]
  },
  {
   "cell_type": "markdown",
   "metadata": {},
   "source": [
    "## Next Up!\n",
    "\n",
    "In the next part, I'll show you how to save your trained models. In general, you won't want to train a model everytime you need it. Instead, you'll train once, save it, then load the model when you want to train more or use if for inference."
   ]
  }
 ],
 "metadata": {
  "kernelspec": {
   "display_name": "Python 3",
   "language": "python",
   "name": "python3"
  },
  "language_info": {
   "codemirror_mode": {
    "name": "ipython",
    "version": 3
   },
   "file_extension": ".py",
   "mimetype": "text/x-python",
   "name": "python",
   "nbconvert_exporter": "python",
   "pygments_lexer": "ipython3",
   "version": "3.6.7"
  }
 },
 "nbformat": 4,
 "nbformat_minor": 2
}
